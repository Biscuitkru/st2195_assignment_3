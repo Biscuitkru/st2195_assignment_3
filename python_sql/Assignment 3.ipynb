{
 "cells": [
  {
   "cell_type": "code",
   "execution_count": 1,
   "id": "42c9fe62",
   "metadata": {},
   "outputs": [],
   "source": [
    "import os\n",
    "import sqlite3\n",
    "import pandas as pd"
   ]
  },
  {
   "cell_type": "code",
   "execution_count": 2,
   "id": "a2bf96b7",
   "metadata": {},
   "outputs": [],
   "source": [
    "os.chdir('...')"
   ]
  },
  {
   "cell_type": "code",
   "execution_count": 3,
   "id": "ba1806c4",
   "metadata": {},
   "outputs": [],
   "source": [
    "# Assuming errors will be encountered, this will allow to code to continue running without errors\n",
    "try:\n",
    "    os.remove('airline2.db')\n",
    "except OSError:\n",
    "        pass"
   ]
  },
  {
   "cell_type": "code",
   "execution_count": 4,
   "id": "e7c0a12d",
   "metadata": {},
   "outputs": [],
   "source": [
    "conn = sqlite3.connect('airline2.db')"
   ]
  },
  {
   "cell_type": "code",
   "execution_count": 5,
   "id": "9b0fb111",
   "metadata": {},
   "outputs": [],
   "source": [
    "airports = pd.read_csv(\"./Block 3/airports.csv\")\n",
    "carriers = pd.read_csv(\"./Block 3/carriers.csv\")\n",
    "planes = pd.read_csv(\"./Block 3/plane-data.csv\")\n",
    "\n",
    "airports.to_sql('airports', con = conn, index = False)\n",
    "carriers.to_sql('carriers', con = conn, index = False)\n",
    "planes.to_sql('planes', con = conn, index = False)"
   ]
  },
  {
   "cell_type": "code",
   "execution_count": 6,
   "id": "fdfe059b",
   "metadata": {},
   "outputs": [],
   "source": [
    "c = conn.cursor()"
   ]
  },
  {
   "cell_type": "code",
   "execution_count": 7,
   "id": "483e7cd4",
   "metadata": {},
   "outputs": [],
   "source": [
    "# The creation of the table helps with the warning message about the mixed data types\n",
    "c.execute('''\n",
    "CREATE TABLE ontime (\n",
    " Year int,\n",
    " Month int,\n",
    " DayofMonth int,\n",
    " DayofWeek int,\n",
    " DepTime int,\n",
    " CRSDepTime int,\n",
    " ArrTime int,\n",
    " CRSArrTime int,\n",
    " UniqueCarrier varchar(5),\n",
    " FlightNum int,\n",
    " TailNum varchar(8),\n",
    " ActualElapsedTime int,\n",
    " CRSElapsedTime int,\n",
    " AirTime int,\n",
    " ArrDelay int,\n",
    " DepDelay int,\n",
    " Origin varchar(3),\n",
    " Dest varchar(3),\n",
    " Distance int,\n",
    " TaxiIn int,\n",
    " TaxiOut int,\n",
    " Cancelled int,\n",
    " CancellationCode varchar(1),\n",
    " Diverted varchar(1),\n",
    " CarrierDelay int,\n",
    " WeatherDelay int,\n",
    " NASDelay int,\n",
    " SecurityDelay int,\n",
    " LateAircraftDelay int\n",
    ")\n",
    "''')\n",
    "conn.commit()"
   ]
  },
  {
   "cell_type": "code",
   "execution_count": 8,
   "id": "1160038e",
   "metadata": {},
   "outputs": [
    {
     "data": {
      "text/plain": [
       "[('airports',), ('carriers',), ('planes',), ('ontime',)]"
      ]
     },
     "execution_count": 8,
     "metadata": {},
     "output_type": "execute_result"
    }
   ],
   "source": [
    "# sqlite_master is a built in SQLite metadata table\n",
    "c.execute('''\n",
    "SELECT name\n",
    "FROM sqlite_master\n",
    "WHERE type = 'table'\n",
    "''').fetchall()"
   ]
  },
  {
   "cell_type": "code",
   "execution_count": 9,
   "id": "05093670",
   "metadata": {},
   "outputs": [
    {
     "name": "stdout",
     "output_type": "stream",
     "text": [
      "Processing: 2000\n",
      "Processing: 2001\n",
      "Processing: 2002\n",
      "Processing: 2003\n"
     ]
    },
    {
     "name": "stderr",
     "output_type": "stream",
     "text": [
      "C:\\Users\\Victor\\anaconda3\\lib\\site-packages\\IPython\\core\\interactiveshell.py:3165: DtypeWarning: Columns (22) have mixed types.Specify dtype option on import or set low_memory=False.\n",
      "  has_raised = await self.run_ast_nodes(code_ast.body, cell_name,\n"
     ]
    },
    {
     "name": "stdout",
     "output_type": "stream",
     "text": [
      "Processing: 2004\n",
      "Processing: 2005\n"
     ]
    }
   ],
   "source": [
    "for year in range(2000, 2006):\n",
    "    filename = \"./Block 3/\"+str(year)+\".csv\"\n",
    "    print('Processing:',year)\n",
    "    ontime = pd.read_csv(filename, dtype = {'Cancelled':int}) # In order to change the data type to integers\n",
    "    ontime.to_sql('ontime', con = conn, if_exists = 'append', index = False)\n",
    "\n",
    "conn.commit()"
   ]
  },
  {
   "cell_type": "code",
   "execution_count": 12,
   "id": "26dbbcfb",
   "metadata": {},
   "outputs": [
    {
     "name": "stdout",
     "output_type": "stream",
     "text": [
      "737-2Y5 has the lowest associated average departure delay at 7.022\n"
     ]
    }
   ],
   "source": [
    "# Query 1\n",
    "c.execute('''\n",
    "SELECT model AS model, AVG(ontime.DepDelay) AS avg_delay\n",
    "FROM planes JOIN ontime ON planes.tailnum=ontime.TailNum\n",
    "WHERE ontime.Cancelled = 0 AND ontime.Diverted = 0 AND ontime.DepDelay > 0\n",
    "GROUP BY model\n",
    "ORDER BY avg_delay\n",
    "''')\n",
    "\n",
    "x = c.fetchall()\n",
    "print(x[0][0], \"has the lowest associated average departure delay at\", round(x[0][1],3))"
   ]
  },
  {
   "cell_type": "code",
   "execution_count": 18,
   "id": "6091adaf",
   "metadata": {},
   "outputs": [
    {
     "data": {
      "text/plain": [
       "'737-2Y5'"
      ]
     },
     "execution_count": 18,
     "metadata": {},
     "output_type": "execute_result"
    }
   ],
   "source": [
    "x[0][0]"
   ]
  },
  {
   "cell_type": "code",
   "execution_count": 16,
   "id": "90abd60e",
   "metadata": {},
   "outputs": [
    {
     "data": {
      "text/plain": [
       "7.022"
      ]
     },
     "execution_count": 16,
     "metadata": {},
     "output_type": "execute_result"
    }
   ],
   "source": [
    "round(x[0][1],3)"
   ]
  },
  {
   "cell_type": "code",
   "execution_count": 20,
   "id": "c7cb97b9",
   "metadata": {},
   "outputs": [
    {
     "data": {
      "text/plain": [
       "[('737-2Y5', 7.022026431718062),\n",
       " ('737-282', 8.433566433566433),\n",
       " ('737-230', 10.458646616541353),\n",
       " ('737-282C', 11.765765765765765),\n",
       " ('767-324', 15.788051209103841),\n",
       " ('767-432ER', 15.793831536083252),\n",
       " ('757-26D', 15.942548158161541),\n",
       " ('182A', 17.10326086956522),\n",
       " ('A318-111', 17.147109826589595),\n",
       " ('767-3P6', 17.385817307692307),\n",
       " ('757-212', 17.51070110701107),\n",
       " ('777-232', 17.521508794236066),\n",
       " ('737-832', 17.69418506410021),\n",
       " ('757-232', 17.774470060792478),\n",
       " ('767-332', 17.81414698606352),\n",
       " ('A319-111', 18.67868088758122),\n",
       " ('DA 20-A1', 20.041798606713108),\n",
       " ('767-3CB', 20.716778523489932),\n",
       " ('EMB-120', 20.798148274218804),\n",
       " ('757-351', 21.41301447699985),\n",
       " ('EMB-120ER', 21.45844681026657),\n",
       " ('A319-132', 21.631674801486124),\n",
       " ('767-224', 21.835771105978957),\n",
       " ('A321-211', 21.986651835372637),\n",
       " ('MD-90-30', 22.20332326283988),\n",
       " ('A320-214', 22.524075366364272),\n",
       " ('747-451', 22.589041095890412),\n",
       " ('737-3S3', 22.61637406570485),\n",
       " ('767-33A', 22.61645218268988),\n",
       " ('777-224', 22.744791666666668),\n",
       " ('767-424ER', 22.750885478158207),\n",
       " ('A319-114', 22.781221761643167),\n",
       " ('737-924', 22.79251220835594),\n",
       " ('737-33A', 22.829516539440203),\n",
       " ('A319-112', 22.950141588978333),\n",
       " ('MD-88', 23.367552422747004),\n",
       " ('757-231', 23.47055785123967),\n",
       " ('737-3B7', 23.589323787727636),\n",
       " ('737-4B7', 23.867225580035093),\n",
       " ('737-3G7', 23.872945638432363),\n",
       " ('737-401', 23.94707651814251),\n",
       " ('737-790', 24.13783269961977),\n",
       " ('757-2Q8', 24.277864685177942),\n",
       " ('737-824', 24.464907057066686),\n",
       " ('777-222', 24.544115253133647),\n",
       " ('737-301', 24.780416361544095),\n",
       " ('737-890', 25.22800495662949),\n",
       " ('A320-231', 25.310452209464493),\n",
       " ('737-990', 25.408651865415425),\n",
       " ('757-324', 25.46209454960525),\n",
       " ('757-222', 25.589056319742976),\n",
       " ('757-224', 25.626775963272248),\n",
       " ('737-724', 25.668456849002613),\n",
       " ('767-3G5', 25.873511060692003),\n",
       " ('757-2G7', 25.89070638764507),\n",
       " ('A320-212', 25.984554333103627),\n",
       " ('G-IV', 26.06338028169014),\n",
       " ('757-2S7', 26.092761839597284),\n",
       " ('A320-232', 26.390219274943462),\n",
       " ('S-50A', 26.41891229789319),\n",
       " ('737-490', 26.49701545270283),\n",
       " ('A109E', 26.573926868044516),\n",
       " ('757-225', 26.796749521988527),\n",
       " ('737-3Y0', 26.81434842883549),\n",
       " ('A320-211', 26.978851252765182),\n",
       " ('737-3T5', 27.01008492569002),\n",
       " ('737-4Q8', 27.076104456026414),\n",
       " ('757-251', 27.316358057573886),\n",
       " ('PA-31-350', 27.357354811360747),\n",
       " ('KITFOX IV', 27.79584775086505),\n",
       " ('737-3H4', 27.836844895177403),\n",
       " ('737-317', 27.84160230396649),\n",
       " ('737-7H4', 27.867954455333372),\n",
       " ('550', 27.897911832946637),\n",
       " ('767-223', 27.935908516720964),\n",
       " ('PA-32R-300', 27.944015444015445),\n",
       " ('737-3L9', 28.05550883095038),\n",
       " ('737-3TO', 28.176935112163562),\n",
       " ('206B', 28.228699551569505),\n",
       " ('AS 355F1', 28.39896373056995),\n",
       " ('FALCON-XP', 28.41203007518797),\n",
       " ('DC-9-41', 28.422613008679967),\n",
       " ('DC-9-31', 28.52325687989293),\n",
       " ('747-2B5F', 28.524113475177305),\n",
       " ('S55A', 28.580810546875),\n",
       " ('737-4S3', 28.703560830860535),\n",
       " ('182P', 28.782159624413147),\n",
       " ('737-3A4', 28.78759374602771),\n",
       " ('737-3Q8', 28.927673649393604),\n",
       " ('767-322', 28.95243841126194),\n",
       " ('210-5(205)', 28.972196478220575),\n",
       " ('OTTER DHC-3', 28.995287958115185),\n",
       " ('DC-9-82(MD-82)', 29.006965247152856),\n",
       " ('DC-9-51', 29.038647685990508),\n",
       " ('767-323', 29.155552484278903),\n",
       " ('737-8FH', 29.303867403314918),\n",
       " ('FALCON XP', 29.372310969116082),\n",
       " ('VANS AIRCRAFT RV6', 29.392702832453192),\n",
       " ('172M', 29.467719589914104),\n",
       " ('DC-9-32', 29.478990054680906),\n",
       " ('T210N', 29.49512411347518),\n",
       " ('757-223', 29.519901198188634),\n",
       " ('65-A90', 29.744082840236686),\n",
       " ('150', 29.75025746652935),\n",
       " (None, 29.830170964608644),\n",
       " ('HST-550', 30.174719375305028),\n",
       " ('421C', 30.308364544319602),\n",
       " ('737-76N', 30.309683442247305),\n",
       " ('DC-9-83(MD-83)', 30.34742386537367),\n",
       " ('A-1B', 30.34775641025641),\n",
       " ('PA-28-180', 30.541469194312796),\n",
       " ('MD 83', 30.5835734870317),\n",
       " ('S-76A', 30.690036900369005),\n",
       " ('F85P-1', 30.762005277044857),\n",
       " ('737-7BD', 31.033116036505866),\n",
       " ('172E', 31.088724584103513),\n",
       " ('EMB-135KL', 31.374988968317005),\n",
       " ('E-90', 31.42578125),\n",
       " ('PA-32RT-300', 31.479768786127167),\n",
       " ('60', 31.49671977507029),\n",
       " ('CL-600-2B19', 31.620927265615574),\n",
       " ('A319-131', 31.73854002631749),\n",
       " ('C90', 31.83309489747258),\n",
       " ('737-524', 31.943239017501387),\n",
       " ('737-73A', 31.98709677419355),\n",
       " ('690A', 32.0),\n",
       " ('747-422', 32.005108556832695),\n",
       " ('EMB-145EP', 32.116699083078636),\n",
       " ('EMB-145XR', 32.139281493354055),\n",
       " ('EMB-145LR', 32.40545172112408),\n",
       " ('EMB-145', 32.417014875480525),\n",
       " ('DC-7BF', 32.52611218568666),\n",
       " ('1121', 33.29087452471483),\n",
       " ('737-322', 33.846681659629155),\n",
       " ('767-2B7', 33.925414364640886),\n",
       " ('SAAB 340B', 33.93355119825708),\n",
       " ('737-522', 34.37026589988936),\n",
       " ('CL-600-2C10', 34.6212598971544),\n",
       " ('EMB-135ER', 35.417502004811546),\n",
       " ('757-33N', 35.712418300653596),\n",
       " ('EMB-135LR', 36.86548136863838),\n",
       " ('ATR 72-212', 38.26736549633746),\n",
       " ('ATR-72-212', 38.699194724494326),\n",
       " ('717-200', 38.737104772534146),\n",
       " ('ERJ 190-100 IGW', 41.723958333333336),\n",
       " ('A330-223', 55.8)]"
      ]
     },
     "execution_count": 20,
     "metadata": {},
     "output_type": "execute_result"
    }
   ],
   "source": [
    "# To show the list\n",
    "x[:]"
   ]
  },
  {
   "cell_type": "code",
   "execution_count": 21,
   "id": "fb00228d",
   "metadata": {},
   "outputs": [
    {
     "name": "stdout",
     "output_type": "stream",
     "text": [
      "Chicago has the highest number of inbound flights(excluding canceled flights) at 2388365\n"
     ]
    }
   ],
   "source": [
    "# Query 2\n",
    "c.execute('''\n",
    "SELECT airports.city AS city, COUNT(*) AS total\n",
    "FROM airports JOIN ontime ON ontime.dest = airports.iata\n",
    "WHERE ontime.Cancelled = 0\n",
    "GROUP BY airports.city\n",
    "ORDER BY total DESC\n",
    "''')\n",
    "\n",
    "x = c.fetchall()\n",
    "print(x[0][0],\"has the highest number of inbound flights(excluding canceled flights) amounting to\", x[0][1])"
   ]
  },
  {
   "cell_type": "code",
   "execution_count": 22,
   "id": "6a47d813",
   "metadata": {
    "scrolled": true
   },
   "outputs": [
    {
     "data": {
      "text/plain": [
       "[('Chicago', 2388365),\n",
       " ('Atlanta', 1912370),\n",
       " ('Dallas-Fort Worth', 1781833),\n",
       " ('Houston', 1304407),\n",
       " ('Los Angeles', 1279514)]"
      ]
     },
     "execution_count": 22,
     "metadata": {},
     "output_type": "execute_result"
    }
   ],
   "source": [
    "x[:5]"
   ]
  },
  {
   "cell_type": "code",
   "execution_count": 23,
   "id": "6736e965",
   "metadata": {},
   "outputs": [
    {
     "name": "stdout",
     "output_type": "stream",
     "text": [
      "Delta Air Lines Inc. has the highest number of cancelled flights 107851\n"
     ]
    }
   ],
   "source": [
    "# Query 3\n",
    "c.execute('''\n",
    "SELECT carriers.Description AS carrier, COUNT(*) AS total\n",
    "FROM carriers JOIN ontime ON ontime.UniqueCarrier = carriers.code\n",
    "WHERE ontime.Cancelled = 1\n",
    "GROUP BY carriers.Description\n",
    "ORDER BY total DESC\n",
    "''')\n",
    "\n",
    "x = c.fetchall()\n",
    "print(x[0][0], \"has the highest number of cancelled flights amounting to\", x[0][1])"
   ]
  },
  {
   "cell_type": "code",
   "execution_count": 24,
   "id": "fd0ac1bc",
   "metadata": {},
   "outputs": [
    {
     "data": {
      "text/plain": [
       "[('Delta Air Lines Inc.', 107851),\n",
       " ('American Airlines Inc.', 105762),\n",
       " ('United Air Lines Inc.', 102066),\n",
       " ('American Eagle Airlines Inc.', 96365),\n",
       " ('US Airways Inc. (Merged with America West 9/05. Reporting for both starting 10/07.)',\n",
       "  85866)]"
      ]
     },
     "execution_count": 24,
     "metadata": {},
     "output_type": "execute_result"
    }
   ],
   "source": [
    "x[:5]"
   ]
  },
  {
   "cell_type": "code",
   "execution_count": 27,
   "id": "29233c61",
   "metadata": {},
   "outputs": [
    {
     "name": "stdout",
     "output_type": "stream",
     "text": [
      "American Eagle Airlines Inc. has the highest number of canceled flights, relative to their total number of flights 0.041\n"
     ]
    }
   ],
   "source": [
    "# Query 4(Long version)\n",
    "c.execute('''\n",
    "SELECT\n",
    "q1.carrier AS carrier, (CAST(q1.numerator AS FLOAT)/ CAST(q2.denominator AS FLOAT)) AS ratio\n",
    "FROM\n",
    " (SELECT carriers.Description AS carrier, COUNT(*) AS numerator\n",
    "  FROM carriers JOIN ontime ON ontime.UniqueCarrier = carriers.Code\n",
    "  WHERE ontime.Cancelled = 1\n",
    "  GROUP BY carriers.Description\n",
    "  )\n",
    "  AS q1 JOIN\n",
    "  (SELECT carriers.Description AS carrier, COUNT(*) AS denominator\n",
    "  FROM carriers JOIN ontime ON ontime.UniqueCarrier = carriers.code\n",
    "  GROUP BY carriers.Description\n",
    "  ) \n",
    "  AS q2 USING (carrier)\n",
    "  ORDER BY ratio DESC\n",
    "''')\n",
    "\n",
    "x = c.fetchall()\n",
    "print(x[0][0], \"has the highest number of canceled flights, relative to their total number of flights\", round(x[0][1],3))"
   ]
  },
  {
   "cell_type": "code",
   "execution_count": 28,
   "id": "4cb523d7",
   "metadata": {},
   "outputs": [
    {
     "data": {
      "text/plain": [
       "[('American Eagle Airlines Inc.', 0.04059832660661774),\n",
       " ('Comair Inc.', 0.03310794068502934),\n",
       " ('Atlantic Southeast Airlines', 0.032601899162408715),\n",
       " ('Independence Air', 0.03199782987301006),\n",
       " ('United Air Lines Inc.', 0.027924193799912997)]"
      ]
     },
     "execution_count": 28,
     "metadata": {},
     "output_type": "execute_result"
    }
   ],
   "source": [
    "x[:5]"
   ]
  },
  {
   "cell_type": "code",
   "execution_count": 30,
   "id": "580a28b3",
   "metadata": {},
   "outputs": [
    {
     "name": "stdout",
     "output_type": "stream",
     "text": [
      "American Eagle Airlines Inc. has the highest number of canceled flights, relative to their total flights 0.041\n"
     ]
    }
   ],
   "source": [
    "# Query 4(Short version)\n",
    "c.execute('''\n",
    "SELECT carriers.Description, AVG(Cancelled) AS Ratio\n",
    "FROM carriers INNER JOIN ontime ON ontime.UniqueCarrier = carriers.Code\n",
    "GROUP BY carriers.Description\n",
    "ORDER BY Ratio DESC\n",
    "''')\n",
    "\n",
    "x= c.fetchall()\n",
    "print(x[0][0], \"has the highest number of canceled flights, relative to their total flights of\", round(x[0][1],3))"
   ]
  },
  {
   "cell_type": "code",
   "execution_count": 31,
   "id": "b7e44eb4",
   "metadata": {},
   "outputs": [
    {
     "data": {
      "text/plain": [
       "[('American Eagle Airlines Inc.', 0.04059832660661774),\n",
       " ('Comair Inc.', 0.03310794068502934),\n",
       " ('Atlantic Southeast Airlines', 0.032601899162408715),\n",
       " ('Independence Air', 0.03199782987301006),\n",
       " ('United Air Lines Inc.', 0.027924193799912997)]"
      ]
     },
     "execution_count": 31,
     "metadata": {},
     "output_type": "execute_result"
    }
   ],
   "source": [
    "x[:5]"
   ]
  },
  {
   "cell_type": "code",
   "execution_count": 32,
   "id": "15a565dd",
   "metadata": {},
   "outputs": [],
   "source": [
    "conn.close()"
   ]
  }
 ],
 "metadata": {
  "kernelspec": {
   "display_name": "Python 3",
   "language": "python",
   "name": "python3"
  },
  "language_info": {
   "codemirror_mode": {
    "name": "ipython",
    "version": 3
   },
   "file_extension": ".py",
   "mimetype": "text/x-python",
   "name": "python",
   "nbconvert_exporter": "python",
   "pygments_lexer": "ipython3",
   "version": "3.8.8"
  }
 },
 "nbformat": 4,
 "nbformat_minor": 5
}
